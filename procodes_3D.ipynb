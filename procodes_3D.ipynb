{
 "cells": [
  {
   "cell_type": "code",
   "execution_count": null,
   "id": "9aae87ee",
   "metadata": {},
   "outputs": [],
   "source": [
    "from skimage.filters import threshold_otsu\n",
    "\n",
    "# approximately solve min_z ||zA-x||^2_2 st ||z||_0 <= max_iters\n",
    "def matching_pursuit(x, A, max_iters, thr=1):\n",
    "    # this is necessary if doing more than one iteration, for the residuals update to work\n",
    "    A = A / np.linalg.norm(A,axis=1)[:,None]\n",
    "\n",
    "    z = np.zeros((A.shape[0],*x.shape[1:]))\n",
    "\n",
    "    x = x.copy() # initialize \"residuals\" to the image itself\n",
    "\n",
    "    # mask for whether each pixel has converged or not; we already know background's zero\n",
    "    active_set = np.ones(x.shape[1:],dtype=bool)\n",
    "    x_norm = np.linalg.norm(x,axis=0,ord=2)\n",
    "\n",
    "    # one approach: pick it using the otsu threshold, as estimate of noise level\n",
    "    max_norm = threshold_otsu(x_norm)\n",
    "#     max_norm = [threshold_otsu(x_norm[k]) for k in range(x_norm.shape[0])]\n",
    "#     max_norm = np.array(max_norm)[:,None,None]\n",
    "    max_norm *= thr # hack; otsu just not great. see 'enhance neurites' in CellProfiler?\n",
    "    active_set[x_norm <= max_norm] = False\n",
    "\n",
    "    for t in range(max_iters):\n",
    "        # project dictionary on residual image\n",
    "        Ax = A @ x[:,active_set]\n",
    "        # pick index with max projection\n",
    "        k_max = Ax.argmax(0)\n",
    "        # set it to active\n",
    "        z[k_max,active_set] = Ax[k_max,range(len(k_max))]\n",
    "        # subtract off contribution\n",
    "        x[:,active_set] -= A[k_max].T * z[k_max,active_set]\n",
    "        # mark pixels with sufficiently small residual norm as done\n",
    "        x_norm = np.linalg.norm(x,axis=0,ord=2)\n",
    "        active_set[x_norm<max_norm] &= False\n",
    "        \n",
    "    return z\n",
    "\n",
    "A = codebook.values.copy().T\n",
    "x = img.copy()\n",
    "assert len(x.shape) == 4\n",
    "\n",
    "max_components = 3\n",
    "fudge_factor = 0.25\n",
    "\n",
    "z = matching_pursuit(x, A, max_components, fudge_factor)\n",
    "\n",
    "z = z.clip(0,np.inf)\n",
    "\n",
    "z.shape"
   ]
  }
 ],
 "metadata": {
  "kernelspec": {
   "display_name": "Python 3 (ipykernel)",
   "language": "python",
   "name": "python3"
  },
  "language_info": {
   "codemirror_mode": {
    "name": "ipython",
    "version": 3
   },
   "file_extension": ".py",
   "mimetype": "text/x-python",
   "name": "python",
   "nbconvert_exporter": "python",
   "pygments_lexer": "ipython3",
   "version": "3.8.12"
  }
 },
 "nbformat": 4,
 "nbformat_minor": 5
}
